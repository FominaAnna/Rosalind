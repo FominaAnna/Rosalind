{
 "cells": [
  {
   "cell_type": "code",
   "execution_count": 157,
   "metadata": {},
   "outputs": [
    {
     "name": "stdout",
     "output_type": "stream",
     "text": [
      "436390025825\n"
     ]
    }
   ],
   "source": [
    "n=30\n",
    "k=4\n",
    "i=1\n",
    "f=0\n",
    "list=[]\n",
    "list.append(1)\n",
    "list.append(1)\n",
    "while i<n-1:\n",
    "    f=list[i]+(list[i-1])*k\n",
    "    list.append(f) \n",
    "    i+=1\n",
    "print(list[n-1])"
   ]
  }
 ],
 "metadata": {
  "kernelspec": {
   "display_name": "Python 3",
   "language": "python",
   "name": "python3"
  },
  "language_info": {
   "codemirror_mode": {
    "name": "ipython",
    "version": 3
   },
   "file_extension": ".py",
   "mimetype": "text/x-python",
   "name": "python",
   "nbconvert_exporter": "python",
   "pygments_lexer": "ipython3",
   "version": "3.7.4"
  }
 },
 "nbformat": 4,
 "nbformat_minor": 2
}
